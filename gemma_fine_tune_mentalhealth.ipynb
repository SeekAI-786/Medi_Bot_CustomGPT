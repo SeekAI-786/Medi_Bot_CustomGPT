{
 "cells": [
  {
   "cell_type": "code",
   "execution_count": null,
   "metadata": {
    "id": "2eSvM9zX_2d3"
   },
   "outputs": [],
   "source": [
    "%%capture\n",
    "!pip install unsloth\n",
    "# Also get the latest nightly Unsloth!\n",
    "!pip uninstall unsloth -y && pip install --upgrade --no-cache-dir --no-deps git+https://github.com/unslothai/unsloth.git\n",
    "\n",
    "# Install Flash Attention 2 for softcapping support\n",
    "import torch\n",
    "if torch.cuda.get_device_capability()[0] >= 8:\n",
    "    !pip install --no-deps packaging ninja einops \"flash-attn>=2.6.3\""
   ]
  },
  {
   "cell_type": "code",
   "execution_count": null,
   "metadata": {
    "colab": {
     "base_uri": "https://localhost:8080/",
     "height": 348,
     "referenced_widgets": [
      "f7fb7cb33cab45b69f3e8be67b52813a",
      "fe60067c6cc444599e444414f6f87dcd",
      "fd91aa2ff6cc4fa38064ad5826137dcb",
      "56b1d75a45ff4883a4222e2857a5eaf0",
      "fcb33cc9b5924fd0b871eafe57e5ba2a",
      "9829e030fab54a7096d973816f772af4",
      "0d6042909c73477d867070525d903f21",
      "b9155586cd954b779085c83bbaa50e70",
      "5e3b6f1bc818427ba5b326ca9a61b5e9",
      "87a87d54a03c42c399f8718b47b9f26c",
      "5bb7632d386947ccb7d3b659e6d2dd6d",
      "19e444bd6878428ebec4169ce81df98b",
      "4636a5af8b0d4b9383cde54f84fa8270",
      "5a80a25a43374f7790995d133ad4888a",
      "94bdbf9d29f248ebba1baad1621c6d3b",
      "98695c7aa99546d599fd7ced2836a8ec",
      "66e011aaef414e14a1d301ce64f3795e",
      "f81030d0094f4529a59b9c97e48d9267",
      "21776ef39d3f431ebcdd29fa2e821708",
      "6f0f21f91f514e71a9d923dca5215e6d",
      "9946e7f23d2e4bbf80dad7ea9b05579a",
      "1cb59a65ec644146a6d7c78a178a9815",
      "2f6b6e5f1e3e40ceac22a9c17c93cf61",
      "c85a043650a544cb8c90f0bc2321cd54",
      "65e760b4330d47f3902c59969dad6e08",
      "816ca4613d154cec99a2d1ab08060841",
      "baeb22abcde34128b16f16e7288fdb5c",
      "2250fc1c5c6e472f8cb0091267ffe3ea",
      "a4769bf693504f1db73f1c86d6c7fb36",
      "d2076aa275004de5bcc3be952caafa71",
      "e54f875be9524a57bfd7f0029a363a98",
      "8d66a06af5da4f72a317a646ed013092",
      "b482e6911b384789b99b754cc5aa0d15",
      "a16a75eac074471c933c7206a18facc6",
      "1209f3dba21f477ca3519b4cc08dc807",
      "585066c95f464bf99aa8aaa7290eda10",
      "daf0cda26ae04d6f8a3abfa531a0d852",
      "7a6488cd62184c609440b3075f21b0aa",
      "040c2227e3eb459eb0c17eba333ec5ef",
      "cd12ab1239a241c5b5a056b6d6257bd8",
      "c475bfb760074b1cab8166c73403de32",
      "03a514bb8eea41aaaa605b3b2f6016b3",
      "4c676169b7a74da287a777dbd9702fd7",
      "93dfa59bb907489c889f4d43b32f7afa",
      "aaca859fa5724bc89a3911c578f7739b",
      "9b630f1f91b5481b81540430381ce532",
      "298c65ffcba3430d85734aac5bac3327",
      "11fade3aad824b48bdc94008e0e3848b",
      "e9e9687d319442bcb6a92574017d1aa1",
      "bbf5a074803a4cd8b01baeeec0ae067b",
      "d5f20d885a4e49d0a26341fe45b36ebf",
      "8d7f7e5b413845c59924093301762581",
      "3aed26b2b3b8435f9a780896b1d4baba",
      "07caae28be5e4c2f82305a0e3c8c842c",
      "b867a1a466e64508b434ceb4bf30987b",
      "2b806b76ac1c4a50b07570fd7b474ad4",
      "c35843df5de6496cb2660d143c305890",
      "cb4c4ebd1152413f9dc454424bf3039a",
      "85ff4ce52f2a42899780e759d98cd1e5",
      "1df79822f81f46f897b74c2e765bfe54",
      "f483ef9d17464b5ba153c2f71b012cff",
      "6fdeb0620df048a297e725eabd021e29",
      "9e47726f4d014437b7407603b1110bd8",
      "58273d98670c4530a5cf242e2873843d",
      "115a0858569149e78902057c8d898a2a",
      "2a3985db44ba457b957275952eeb50e6"
     ]
    },
    "id": "QmUBVEnvCDJv",
    "outputId": "d26b22d4-b498-49af-9dd3-0a6fbdef8ee7"
   },
   "outputs": [],
   "source": [
    "from unsloth import FastLanguageModel\n",
    "import torch\n",
    "max_seq_length = 2048 # Choose any! We auto support RoPE Scaling internally!\n",
    "dtype = None # None for auto detection. Float16 for Tesla T4, V100, Bfloat16 for Ampere+\n",
    "load_in_4bit = False # Use 4bit quantization to reduce memory usage. Can be False.\n",
    "\n",
    "model, tokenizer = FastLanguageModel.from_pretrained(\n",
    "    model_name = \"unsloth/gemma-2-2b\",\n",
    "    max_seq_length = max_seq_length,\n",
    "    dtype = dtype,\n",
    "    load_in_4bit = load_in_4bit)"
   ]
  },
  {
   "cell_type": "code",
   "execution_count": null,
   "metadata": {
    "colab": {
     "base_uri": "https://localhost:8080/"
    },
    "id": "6bZsfBuZDeCL",
    "outputId": "0ebf9cbd-af89-4b0c-91b8-7ec3c2d028fc"
   },
   "outputs": [],
   "source": [
    "model = FastLanguageModel.get_peft_model(\n",
    "    model,\n",
    "    r = 16, # Choose any number > 0 ! Suggested 8, 16, 32, 64, 128\n",
    "    target_modules = [\"q_proj\", \"k_proj\", \"v_proj\", \"o_proj\",\n",
    "                      \"gate_proj\", \"up_proj\", \"down_proj\",],\n",
    "    lora_alpha = 16,\n",
    "    lora_dropout = 0, # Supports any, but = 0 is optimized\n",
    "    bias = \"none\",    # Supports any, but = \"none\" is optimized\n",
    "    use_gradient_checkpointing = \"unsloth\", # True or \"unsloth\" for very long context\n",
    "    random_state = 3407,\n",
    "    use_rslora = False,  # We support rank stabilized LoRA\n",
    "    loftq_config = None, # And LoftQ\n",
    ")"
   ]
  },
  {
   "cell_type": "code",
   "execution_count": null,
   "metadata": {
    "colab": {
     "base_uri": "https://localhost:8080/",
     "height": 49,
     "referenced_widgets": [
      "0d58d52526e64082b2e30762c9cf8aa6",
      "8f48b26e824d4fa194c269321a185a82",
      "ee3cd4e0de114311a873b72757254b16",
      "022f8987854f43ebba96d7ac767f80a3",
      "11e1a57238204c3a85fd440a1c6a29a1",
      "42db5a3e8c2048708694edaee9cbd773",
      "3f2a7ad0c5894755b5214e27cbbfdd2a",
      "48ba5e4cbce44d568232720c0ad61655",
      "ca27ecc69c3d4e62b3c73a05577febd3",
      "ccdcdc408b594d3a81f7f290900e01d2",
      "dcc8297a738441bea027e1d14839fb8e"
     ]
    },
    "id": "LjY75GoYUCB8",
    "outputId": "55911d78-78e3-41ad-af1b-34d554561834"
   },
   "outputs": [],
   "source": [
    "alpaca_prompt = \"\"\"Below is an instruction that describes a task, paired with an input that provides further context. Write a response that appropriately completes the request.\n",
    "\n",
    "### Instruction:\n",
    "{}\n",
    "\n",
    "### Input:\n",
    "{}\n",
    "\n",
    "### Response:\n",
    "{}\"\"\"\n",
    "\n",
    "EOS_TOKEN = tokenizer.eos_token # Must add EOS_TOKEN\n",
    "def formatting_prompts_func(examples):\n",
    "    instructions = examples[\"instruction\"]\n",
    "    inputs       = examples[\"input\"]\n",
    "    outputs      = examples[\"output\"]\n",
    "    texts = []\n",
    "    for instruction, input, output in zip(instructions, inputs, outputs):\n",
    "        # Must add EOS_TOKEN, otherwise your generation will go on forever!\n",
    "        text = alpaca_prompt.format(instruction, input, output) + EOS_TOKEN\n",
    "        texts.append(text)\n",
    "    return { \"text\" : texts, }\n",
    "pass\n",
    "\n",
    "from datasets import load_dataset\n",
    "dataset = load_dataset(\"marmikpandya/mental-health\", split = \"train\")\n",
    "dataset = dataset.map(formatting_prompts_func, batched = True)"
   ]
  },
  {
   "cell_type": "code",
   "execution_count": null,
   "metadata": {
    "id": "wrJAR_G025zJ"
   },
   "outputs": [],
   "source": []
  },
  {
   "cell_type": "code",
   "execution_count": null,
   "metadata": {
    "colab": {
     "base_uri": "https://localhost:8080/",
     "height": 49,
     "referenced_widgets": [
      "da1436224f6b4c63b3777ddb1a224ce7",
      "dec991c9fe5b42108e928ec268f93395",
      "261190d2c292499b950aa7730986aa5f",
      "440b8b76206f4b3eb49a07ef8e66c43a",
      "8a1e007206344818b3cd68ccde401f7d",
      "1660d84202db4f428886a05df28603c5",
      "d28f1849d66a40ada0e7e7bf82e9af4a",
      "cc8dafedca1a4f56a49e176dc4055f17",
      "b95be9adbe264463b354707104beb025",
      "dcf60c202f124b29aa34094ebd5c7ded",
      "52ff604dbb6a448797722e92f8b592d7"
     ]
    },
    "id": "95_Nn-89DhsL",
    "outputId": "e6b516a3-12d3-437e-db4a-0cc92f830165"
   },
   "outputs": [],
   "source": [
    "from trl import SFTTrainer\n",
    "from transformers import TrainingArguments\n",
    "from unsloth import is_bfloat16_supported\n",
    "\n",
    "trainer = SFTTrainer(\n",
    "    model = model,\n",
    "    tokenizer = tokenizer,\n",
    "    train_dataset = dataset,\n",
    "    dataset_text_field = \"text\",\n",
    "    max_seq_length = max_seq_length,\n",
    "    dataset_num_proc = 2,\n",
    "    packing = False, # Can make training 5x faster for short sequences.\n",
    "    args = TrainingArguments(\n",
    "        per_device_train_batch_size = 4,\n",
    "        gradient_accumulation_steps = 4,\n",
    "        warmup_steps = 5,\n",
    "        num_train_epochs = 1, # Set this for 1 full training run.\n",
    "        # max_steps = 60,\n",
    "        learning_rate = 2e-4,\n",
    "        fp16 = not is_bfloat16_supported(),\n",
    "        bf16 = is_bfloat16_supported(),\n",
    "        logging_steps = 1,\n",
    "        optim = \"adamw_8bit\",\n",
    "        weight_decay = 0.01,\n",
    "        lr_scheduler_type = \"linear\",\n",
    "        seed = 3407,\n",
    "        output_dir = \"outputs\",\n",
    "        report_to = \"none\", # Use this for WandB etc\n",
    "    ),\n",
    ")"
   ]
  },
  {
   "cell_type": "code",
   "execution_count": null,
   "metadata": {
    "colab": {
     "base_uri": "https://localhost:8080/"
    },
    "id": "2ejIt2xSNKKp",
    "outputId": "7453bb34-4b87-4ef2-ccb2-343c8d8d82be"
   },
   "outputs": [],
   "source": [
    "#@title Show current memory stats\n",
    "gpu_stats = torch.cuda.get_device_properties(0)\n",
    "start_gpu_memory = round(torch.cuda.max_memory_reserved() / 1024 / 1024 / 1024, 3)\n",
    "max_memory = round(gpu_stats.total_memory / 1024 / 1024 / 1024, 3)\n",
    "print(f\"GPU = {gpu_stats.name}. Max memory = {max_memory} GB.\")\n",
    "print(f\"{start_gpu_memory} GB of memory reserved.\")"
   ]
  },
  {
   "cell_type": "code",
   "execution_count": null,
   "metadata": {
    "colab": {
     "base_uri": "https://localhost:8080/",
     "height": 1000
    },
    "id": "yqxqAZ7KJ4oL",
    "outputId": "6966b66f-5ecb-4341-d919-4feec28691e6"
   },
   "outputs": [],
   "source": [
    "trainer_stats = trainer.train()"
   ]
  },
  {
   "cell_type": "code",
   "execution_count": null,
   "metadata": {
    "cellView": "form",
    "colab": {
     "base_uri": "https://localhost:8080/"
    },
    "id": "pCqnaKmlO1U9",
    "outputId": "856933c6-b746-456c-f064-b4ab71e29424"
   },
   "outputs": [],
   "source": [
    "#@title Show final memory and time stats\n",
    "used_memory = round(torch.cuda.max_memory_reserved() / 1024 / 1024 / 1024, 3)\n",
    "used_memory_for_lora = round(used_memory - start_gpu_memory, 3)\n",
    "used_percentage = round(used_memory         /max_memory*100, 3)\n",
    "lora_percentage = round(used_memory_for_lora/max_memory*100, 3)\n",
    "print(f\"{trainer_stats.metrics['train_runtime']} seconds used for training.\")\n",
    "print(f\"{round(trainer_stats.metrics['train_runtime']/60, 2)} minutes used for training.\")\n",
    "print(f\"Peak reserved memory = {used_memory} GB.\")\n",
    "print(f\"Peak reserved memory for training = {used_memory_for_lora} GB.\")\n",
    "print(f\"Peak reserved memory % of max memory = {used_percentage} %.\")\n",
    "print(f\"Peak reserved memory for training % of max memory = {lora_percentage} %.\")"
   ]
  },
  {
   "cell_type": "code",
   "execution_count": null,
   "metadata": {
    "colab": {
     "base_uri": "https://localhost:8080/"
    },
    "id": "upcOlWe7A1vc",
    "outputId": "8bd5a295-3d41-44ee-f149-b5794dd30e3e"
   },
   "outputs": [],
   "source": [
    "model.save_pretrained(\"lora_model\") # Local saving\n",
    "tokenizer.save_pretrained(\"lora_model\")\n",
    "# model.push_to_hub(\"your_name/lora_model\", token = \"...\") # Online saving\n",
    "# tokenizer.push_to_hub(\"your_name/lora_model\", token = \"...\") # Online saving"
   ]
  },
  {
   "cell_type": "code",
   "execution_count": null,
   "metadata": {
    "colab": {
     "base_uri": "https://localhost:8080/",
     "height": 197,
     "referenced_widgets": [
      "739ac304a36e46e0871bb3b015baddfa",
      "f31824a02fc94cea87c81fc57f1f942f",
      "eea8340c27e743d3bbd7a1f1160aabb2",
      "30bee386e6b843328f26bb78ee20c820",
      "c27e945d71194c2aa5549f99a9b68c10",
      "1a575a21cacf477ca25cba55252a7e2e",
      "51a0e5be26b340ee99b29a0a54244a22",
      "a283dbf8ab074e928629aa96f9b66559",
      "0cb6a74b46394e4f9aedd2dfe0fc703c",
      "af5618913caf4806b07b3bd840cfed84",
      "efcc086fc76a433dbae243cea303a207",
      "bfbbac7614a8454fbca1a65e1daabd6e",
      "cc1c25cf835b48cca8232884d6015fc2",
      "4765847082f24a98aa3a1f2aefea5bbb",
      "78d6692c02d6465698ad518650ed2983",
      "c7042de7c52f46818917a8a1aca78e5c",
      "d6156f6942694d2cb2799cfa3892d918",
      "15a5ec4c1fb94858a3bbefddd9e69bc0",
      "753256af07d24fd9b2bea695d0ceaa8a",
      "9bd64cc730024dac8f805c6f9341536f",
      "afa17acdbaf942c1b84f6f19d183bc12",
      "b7444237771f45f6a1611690334aaf53",
      "4664f36688f142e5bc78f6a3043f9ce6",
      "57478ec73d834fc6bf78bb1d5f12c60f",
      "e2a5392e48d542bcbaf9f24f96ec478b",
      "ad6c07db77a64e3ab9ae748e4afca09f",
      "0b6b825d27fe41abb59f7b04a77a2dce",
      "73a9569bc9b84695b5d2b203b3c86a3f",
      "7657ef8c6f29425ea49a3a32b01407d3",
      "3400e1cd2f6f4d2ba5280f5c3e54ace3",
      "074a4fa9f6a84760bfd4f5cf76f9e160",
      "3bc0f768e08f474fa1dfd19da7e4b14a",
      "31d5dcc4397d405d844921457063e95c",
      "d907dc055f144bc1a43ff29085dcd5f7",
      "dedbdece67504630a34d5d91db33e49d",
      "4002f3dd419b4134bcd9382b34386e58",
      "38992fcf61b84e62b0c2258f67dbe665",
      "e95406872f4b42e297dea94e83c8bf01",
      "256dbad238b243e3859b20ac0ac2dbac",
      "2b982fc219894c97b576b0fa57b3dde9",
      "d78579a62bc242458c4f079578afb351",
      "3ae63f7f70b849798c446641c7f8e97d",
      "30f7863f14b742c497905862442e4a4a",
      "b42118f408a6478c91f8bcdf82b432ad"
     ]
    },
    "id": "zhI_o0r73Df0",
    "outputId": "3997ad04-9dac-467f-8b99-babbcfb583de"
   },
   "outputs": [],
   "source": [
    "from huggingface_hub import HfApi\n",
    "huggingface_token = \"hf_vDxNCyNiQQkRDO\"  # Replace with your actual token\n",
    "api = HfApi()\n",
    "api.upload_folder(\n",
    "    folder_path=\"/content/lora_model\",\n",
    "    repo_id=\"gemma-mental-health-fine-tune\",\n",
    "    token=huggingface_token\n",
    ")"
   ]
  }
 ],
 "metadata": {
  "accelerator": "GPU",
  "colab": {
   "gpuType": "T4",
   "provenance": []
  },
  "kernelspec": {
   "display_name": "Python 3",
   "name": "python3"
  },
  "language_info": {
   "name": "python"
  }
 },
 "nbformat": 4,
 "nbformat_minor": 0
}
